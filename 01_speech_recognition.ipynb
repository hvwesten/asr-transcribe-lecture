{
 "cells": [
  {
   "cell_type": "markdown",
   "source": [
    "## Install required packages"
   ],
   "metadata": {
    "collapsed": false,
    "pycharm": {
     "name": "#%% md\n"
    }
   }
  },
  {
   "cell_type": "code",
   "execution_count": null,
   "outputs": [],
   "source": [
    "# we first clone the DeepSpeech repository\n",
    "!git clone https://github.com/mozilla/DeepSpeech.git"
   ],
   "metadata": {
    "collapsed": false,
    "pycharm": {
     "name": "#%%\n"
    }
   }
  },
  {
   "cell_type": "code",
   "execution_count": null,
   "outputs": [],
   "source": [
    "!pip install -e ./DeepSpeech"
   ],
   "metadata": {
    "collapsed": false,
    "pycharm": {
     "name": "#%%\n"
    }
   }
  },
  {
   "cell_type": "markdown",
   "source": [
    "## Download files"
   ],
   "metadata": {
    "collapsed": false,
    "pycharm": {
     "name": "#%% md\n"
    }
   }
  },
  {
   "cell_type": "code",
   "execution_count": null,
   "outputs": [],
   "source": [
    "# download the pretrained model and scorer\n",
    "# TODO download to nicer location\n",
    "#!curl -LO https://github.com/mozilla/DeepSpeech/releases/download/v0.9.3/deepspeech-0.9.3-models.pbmm\n",
    "#!curl -LO https://github.com/mozilla/DeepSpeech/releases/download/v0.9.3/deepspeech-0.9.3-models.scorer"
   ],
   "metadata": {
    "collapsed": false,
    "pycharm": {
     "name": "#%%\n"
    }
   }
  },
  {
   "cell_type": "code",
   "execution_count": null,
   "outputs": [],
   "source": [
    "from pathlib import Path"
   ],
   "metadata": {
    "collapsed": false,
    "pycharm": {
     "name": "#%%\n"
    }
   }
  },
  {
   "cell_type": "code",
   "execution_count": null,
   "outputs": [],
   "source": [
    "# Create the required directories\n",
    "Path.joinpath(Path.cwd(), 'raw_text/').mkdir(parents=True, exist_ok=True)\n",
    "Path.joinpath(Path.cwd(), 'normal_text/').mkdir(parents=True, exist_ok=True)"
   ],
   "metadata": {
    "collapsed": false,
    "pycharm": {
     "name": "#%%\n"
    }
   }
  },
  {
   "cell_type": "code",
   "execution_count": null,
   "outputs": [],
   "source": [
    "audio_directory = Path.cwd() / 'audio' / 'wav'\n",
    "raw_text_directory = Path.cwd() / 'raw_text'\n",
    "normal_text_directory = Path.cwd() / 'normal_text'"
   ],
   "metadata": {
    "collapsed": false,
    "pycharm": {
     "name": "#%%\n"
    }
   }
  },
  {
   "cell_type": "markdown",
   "source": [
    "## Speech recognition using DeepSpeech"
   ],
   "metadata": {
    "collapsed": false,
    "pycharm": {
     "name": "#%% md\n"
    }
   }
  },
  {
   "cell_type": "code",
   "execution_count": null,
   "outputs": [],
   "source": [
    "model_file = 'deepspeech-0.9.3-models.pbmm'\n",
    "scorer_file = 'deepspeech-0.9.3-models.scorer'\n",
    "audio_file =  '/econ251_01_090309.wav'\n",
    "audio_file_path = str(audio_directory) + audio_file\n",
    "\n",
    "use_gpu = False"
   ],
   "metadata": {
    "collapsed": false,
    "pycharm": {
     "name": "#%%\n"
    }
   }
  },
  {
   "cell_type": "code",
   "execution_count": null,
   "outputs": [],
   "source": [
    "from utils import speech_recognition_cpu, speech_recognition_gpu\n",
    "\n",
    "\n",
    "for audio in audio_directory.glob('*.wav'):\n",
    "    # if not use_gpu:\n",
    "    # result = speech_recognition_cpu(model_file, scorer_file, audio)\n",
    "    # else:\n",
    "    #     result = speech_recognition_gpu(model_file, scorer_file, audio_file_path)\n",
    "\n",
    "    with open('asd', 'r') as f: # temporary\n",
    "        result = f.read()\n",
    "\n",
    "    # Save result to text file\n",
    "    file_name = audio.stem\n",
    "\n",
    "    out_file = (raw_text_directory / file_name).with_suffix('.txt')\n",
    "\n",
    "\n",
    "    if not out_file.is_file():\n",
    "        print(f\"Saving to {out_file}\")\n",
    "        with open(out_file, 'w') as f:\n",
    "            f.write(result)"
   ],
   "metadata": {
    "collapsed": false,
    "pycharm": {
     "name": "#%%\n"
    }
   }
  },
  {
   "cell_type": "code",
   "execution_count": null,
   "outputs": [],
   "source": [],
   "metadata": {
    "collapsed": false,
    "pycharm": {
     "name": "#%%\n"
    }
   }
  }
 ],
 "metadata": {
  "kernelspec": {
   "display_name": "Python 3 (ipykernel)",
   "language": "python",
   "name": "python3"
  },
  "language_info": {
   "codemirror_mode": {
    "name": "ipython",
    "version": 3
   },
   "file_extension": ".py",
   "mimetype": "text/x-python",
   "name": "python",
   "nbconvert_exporter": "python",
   "pygments_lexer": "ipython3",
   "version": "3.9.7"
  }
 },
 "nbformat": 4,
 "nbformat_minor": 5
}