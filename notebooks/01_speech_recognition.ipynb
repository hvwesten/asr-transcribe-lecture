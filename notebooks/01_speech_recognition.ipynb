{
 "cells": [
  {
   "cell_type": "code",
   "execution_count": 1,
   "outputs": [
    {
     "name": "stdout",
     "output_type": "stream",
     "text": [
      "4.18.0\n"
     ]
    }
   ],
   "source": [
    "import transformers\n",
    "from pathlib import Path\n",
    "from transformers import pipeline\n",
    "import time\n",
    "print(transformers.__version__)"
   ],
   "metadata": {
    "collapsed": false,
    "pycharm": {
     "name": "#%%\n"
    }
   }
  },
  {
   "cell_type": "code",
   "execution_count": 13,
   "outputs": [],
   "source": [
    "base_directory = Path.cwd().parent\n",
    "\n",
    "\n",
    "dataset_name = \"yale/econ251\"\n",
    "data_directory = base_directory / 'data'\n",
    "audio_directory = data_directory / 'inputs' / dataset_name / 'lectures'\n",
    "predictions_directory = data_directory / 'predictions' / dataset_name"
   ],
   "metadata": {
    "collapsed": false,
    "pycharm": {
     "name": "#%%\n"
    }
   }
  },
  {
   "cell_type": "code",
   "execution_count": 15,
   "outputs": [
    {
     "data": {
      "text/plain": "Downloading:   0%|          | 0.00/2.05k [00:00<?, ?B/s]",
      "application/vnd.jupyter.widget-view+json": {
       "version_major": 2,
       "version_minor": 0,
       "model_id": "3e760a706c824ea3923f526cb014f61e"
      }
     },
     "metadata": {},
     "output_type": "display_data"
    },
    {
     "name": "stderr",
     "output_type": "stream",
     "text": [
      "Some weights of Wav2Vec2ForCTC were not initialized from the model checkpoint at facebook/wav2vec2-base-960h and are newly initialized: ['wav2vec2.masked_spec_embed']\n",
      "You should probably TRAIN this model on a down-stream task to be able to use it for predictions and inference.\n"
     ]
    }
   ],
   "source": [
    "# load the model pipeline\n",
    "pipe = pipeline(model=\"facebook/wav2vec2-base-960h\")"
   ],
   "metadata": {
    "collapsed": false,
    "pycharm": {
     "name": "#%%\n"
    }
   }
  },
  {
   "cell_type": "code",
   "execution_count": 20,
   "outputs": [
    {
     "name": "stdout",
     "output_type": "stream",
     "text": [
      "Extracting text from speech for /home/hvwesten/Projects/uni/ASR/asr-transcribe-lecture/data/inputs/yale/econ251/lectures/econ251_01_090309.mp3\n",
      "Speech recognition took 376.91223883628845 seconds\n",
      "Saving text to file\n",
      "/home/hvwesten/Projects/uni/ASR/asr-transcribe-lecture/data/predictions/yale/econ251/01_cl20.txt\n",
      "Saved at /home/hvwesten/Projects/uni/ASR/asr-transcribe-lecture/data/predictions/yale/econ251/01_cl20.txt\n"
     ]
    }
   ],
   "source": [
    "chunk_length = 20\n",
    "for audio_file in audio_directory.glob('*.mp3'):\n",
    "    print(f\"Extracting text from speech for {audio_file}\")\n",
    "    start = time.time()\n",
    "    output = pipe(str(audio_file), chunk_length_s=chunk_length)\n",
    "    text = output['text']\n",
    "    time_taken = time.time()-start\n",
    "    print(f\"Speech recognition took {time.time()-start} seconds\")\n",
    "\n",
    "    print('Saving text to file')\n",
    "    #file_name = audio_file.stem + 'esp'\n",
    "    file_name = '01_cl20.txt'\n",
    "\n",
    "    out_file = (predictions_directory / file_name).with_suffix('.txt')\n",
    "    print(out_file)\n",
    "    if not out_file.is_file():\n",
    "        print(f\"Saved at {out_file}\")\n",
    "        with open(out_file, 'w') as f:\n",
    "            f.write(text)\n",
    "    else:\n",
    "        print(f\"{out_file} already exists\")"
   ],
   "metadata": {
    "collapsed": false,
    "pycharm": {
     "name": "#%%\n"
    }
   }
  },
  {
   "cell_type": "code",
   "execution_count": null,
   "outputs": [],
   "source": [],
   "metadata": {
    "collapsed": false,
    "pycharm": {
     "name": "#%%\n"
    }
   }
  }
 ],
 "metadata": {
  "kernelspec": {
   "display_name": "Python 3 (ipykernel)",
   "language": "python",
   "name": "python3"
  },
  "language_info": {
   "codemirror_mode": {
    "name": "ipython",
    "version": 3
   },
   "file_extension": ".py",
   "mimetype": "text/x-python",
   "name": "python",
   "nbconvert_exporter": "python",
   "pygments_lexer": "ipython3",
   "version": "3.9.7"
  }
 },
 "nbformat": 4,
 "nbformat_minor": 5
}