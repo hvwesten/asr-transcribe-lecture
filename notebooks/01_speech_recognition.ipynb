{
 "cells": [
  {
   "cell_type": "markdown",
   "source": [
    "## Baseline prediction"
   ],
   "metadata": {
    "collapsed": false,
    "pycharm": {
     "name": "#%% md\n"
    }
   }
  },
  {
   "cell_type": "code",
   "execution_count": null,
   "outputs": [],
   "source": [
    "import transformers\n",
    "from pathlib import Path\n",
    "from transformers import pipeline\n",
    "import time\n",
    "print(transformers.__version__)"
   ],
   "metadata": {
    "collapsed": false,
    "pycharm": {
     "name": "#%%\n"
    }
   }
  },
  {
   "cell_type": "code",
   "execution_count": null,
   "outputs": [],
   "source": [
    "base_directory = Path.cwd().parent\n",
    "\n",
    "dataset_name = \"yale_econ251\"\n",
    "data_dir = base_directory / 'data'\n",
    "\n",
    "dataset_size = \"normal\" # or 'tiny'\n",
    "\n",
    "if dataset_size == \"tiny\":\n",
    "    audio_dir = data_dir / 'inputs' / dataset_name / 'lectures-tiny'\n",
    "    transcripts_dir = data_dir / 'inputs' / dataset_name / 'transcripts-tiny'\n",
    "else:\n",
    "    audio_dir = data_dir / 'inputs' / dataset_name / 'lectures'\n",
    "    transcripts_dir = data_dir / 'inputs' / dataset_name / 'transcripts'"
   ],
   "metadata": {
    "collapsed": false,
    "pycharm": {
     "name": "#%%\n"
    }
   }
  },
  {
   "cell_type": "code",
   "execution_count": null,
   "outputs": [],
   "source": [
    "# load the model pipeline\n",
    "# model_name = \"facebook/wav2vec2-base-960h\" # baseline\n",
    "model_name = \"facebook/wav2vec2-base\"\n",
    "# model_name = \"facebook/wav2vec2-base-100h\"\n",
    "\n",
    "# model_name = \"facebook/wav2vec2-large\"\n",
    "# model_name = \"facebook/wav2vec2-large-960h\"\n",
    "\n",
    "pipe = pipeline(\"automatic-speech-recognition\", model=model_name)"
   ],
   "metadata": {
    "collapsed": false,
    "pycharm": {
     "name": "#%%\n"
    }
   }
  },
  {
   "cell_type": "code",
   "execution_count": null,
   "outputs": [],
   "source": [
    "pred_folder_name = model_name.split('/')[1]\n",
    "print(pred_folder_name)\n",
    "predictions_dir = data_dir / 'predictions' / dataset_name /  pred_folder_name / dataset_size\n",
    "print(predictions_dir)\n",
    "if not predictions_dir.is_dir():\n",
    "    predictions_dir.mkdir(parents=True)"
   ],
   "metadata": {
    "collapsed": false,
    "pycharm": {
     "name": "#%%\n"
    }
   }
  },
  {
   "cell_type": "code",
   "execution_count": null,
   "outputs": [],
   "source": [
    "chunk_length = 10\n",
    "\n",
    "# selected_files = ['06']#, '07', '08', '09', '10', '11', '12', '13','14','15',\n",
    "                  #'16','17','18','19','20','21','22','23','24','25','26' ]\n",
    "\n",
    "for audio_file in audio_dir.glob('*.mp3'):\n",
    "    # print(audio_file)\n",
    "    # file_no = audio_file.stem.split('_')[1]\n",
    "    # if file_no not in selected_files:\n",
    "    #     continue\n",
    "\n",
    "    print(f\"Extracting text from speech for {audio_file}\")\n",
    "    start = time.time()\n",
    "    output = pipe(str(audio_file), chunk_length_s=chunk_length)\n",
    "    text = output['text']\n",
    "    time_taken = time.time()-start\n",
    "    print(f\"Speech recognition took {time.time()-start} seconds\")\n",
    "\n",
    "    print('Saving text to file')\n",
    "    file_name = 'pred_' + \"_\" + file_no +\"_\" + dataset_size #+ '_cl10'\n",
    "    out_file = (predictions_dir / file_name).with_suffix('.txt')\n",
    "    print(out_file)\n",
    "    if not out_file.is_file():\n",
    "        print(f\"Saved at {out_file}\")\n",
    "        with open(out_file, 'w') as f:\n",
    "            f.write(text)\n",
    "    else:\n",
    "        print(f\"{out_file} already exists\")"
   ],
   "metadata": {
    "collapsed": false,
    "pycharm": {
     "name": "#%%\n"
    }
   }
  },
  {
   "cell_type": "code",
   "execution_count": null,
   "outputs": [],
   "source": [],
   "metadata": {
    "collapsed": false,
    "pycharm": {
     "name": "#%%\n"
    }
   }
  }
 ],
 "metadata": {
  "kernelspec": {
   "display_name": "Python 3 (ipykernel)",
   "language": "python",
   "name": "python3"
  },
  "language_info": {
   "codemirror_mode": {
    "name": "ipython",
    "version": 3
   },
   "file_extension": ".py",
   "mimetype": "text/x-python",
   "name": "python",
   "nbconvert_exporter": "python",
   "pygments_lexer": "ipython3",
   "version": "3.9.7"
  }
 },
 "nbformat": 4,
 "nbformat_minor": 5
}