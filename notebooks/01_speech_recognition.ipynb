{
 "cells": [
  {
   "cell_type": "code",
   "execution_count": null,
   "outputs": [],
   "source": [
    "import transformers\n",
    "from pathlib import Path\n",
    "from transformers import pipeline\n",
    "import time\n",
    "print(transformers.__version__)"
   ],
   "metadata": {
    "collapsed": false,
    "pycharm": {
     "name": "#%%\n"
    }
   }
  },
  {
   "cell_type": "code",
   "execution_count": null,
   "outputs": [],
   "source": [
    "base_directory = Path.cwd().parent\n",
    "\n",
    "dataset_name = \"yale/econ251\"\n",
    "data_directory = base_directory / 'data'\n",
    "audio_directory = data_directory / 'inputs' / dataset_name / 'lectures'\n",
    "predictions_directory = data_directory / 'predictions' / dataset_name"
   ],
   "metadata": {
    "collapsed": false,
    "pycharm": {
     "name": "#%%\n"
    }
   }
  },
  {
   "cell_type": "code",
   "execution_count": null,
   "outputs": [],
   "source": [
    "# load the model pipeline\n",
    "pipe = pipeline(model=\"facebook/wav2vec2-base-960h\")"
   ],
   "metadata": {
    "collapsed": false,
    "pycharm": {
     "name": "#%%\n"
    }
   }
  },
  {
   "cell_type": "code",
   "execution_count": null,
   "outputs": [],
   "source": [
    "chunk_length = 10\n",
    "\n",
    "selected_files = ['06', '07', '08', '09', '10', '11', '12', '13','14','15',\n",
    "                  '16','17','18','19','20','21','22','23','24','25','26' ]\n",
    "\n",
    "for audio_file in audio_directory.glob('*.mp3'):\n",
    "    if audio_file.stem.split('_')[1] not in selected_files:\n",
    "        continue\n",
    "\n",
    "    print(f\"Extracting text from speech for {audio_file}\")\n",
    "    start = time.time()\n",
    "    output = pipe(str(audio_file), chunk_length_s=chunk_length)\n",
    "    text = output['text']\n",
    "    time_taken = time.time()-start\n",
    "    print(f\"Speech recognition took {time.time()-start} seconds\")\n",
    "\n",
    "    print('Saving text to file')\n",
    "    file_name = 'pred_' + audio_file.stem + '_cl10'\n",
    "\n",
    "    out_file = (predictions_directory / file_name).with_suffix('.txt')\n",
    "    print(out_file)\n",
    "    if not out_file.is_file():\n",
    "        print(f\"Saved at {out_file}\")\n",
    "        with open(out_file, 'w') as f:\n",
    "            f.write(text)\n",
    "    else:\n",
    "        print(f\"{out_file} already exists\")"
   ],
   "metadata": {
    "collapsed": false,
    "pycharm": {
     "name": "#%%\n"
    }
   }
  },
  {
   "cell_type": "markdown",
   "source": [
    "## Finetune"
   ],
   "metadata": {
    "collapsed": false,
    "pycharm": {
     "name": "#%% md\n"
    }
   }
  },
  {
   "cell_type": "code",
   "execution_count": null,
   "outputs": [],
   "source": [
    "#TBD"
   ],
   "metadata": {
    "collapsed": false,
    "pycharm": {
     "name": "#%%\n"
    }
   }
  }
 ],
 "metadata": {
  "kernelspec": {
   "display_name": "Python 3 (ipykernel)",
   "language": "python",
   "name": "python3"
  },
  "language_info": {
   "codemirror_mode": {
    "name": "ipython",
    "version": 3
   },
   "file_extension": ".py",
   "mimetype": "text/x-python",
   "name": "python",
   "nbconvert_exporter": "python",
   "pygments_lexer": "ipython3",
   "version": "3.9.7"
  }
 },
 "nbformat": 4,
 "nbformat_minor": 5
}