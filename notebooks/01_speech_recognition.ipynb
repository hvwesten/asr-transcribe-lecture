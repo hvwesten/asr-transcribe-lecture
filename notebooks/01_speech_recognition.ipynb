{
 "cells": [
  {
   "cell_type": "markdown",
   "source": [
    "## Baseline prediction"
   ],
   "metadata": {
    "collapsed": false,
    "pycharm": {
     "name": "#%% md\n"
    }
   }
  },
  {
   "cell_type": "code",
   "execution_count": 1,
   "outputs": [
    {
     "name": "stdout",
     "output_type": "stream",
     "text": [
      "4.18.0\n"
     ]
    }
   ],
   "source": [
    "import datasets\n",
    "import transformers\n",
    "from pathlib import Path\n",
    "from transformers import pipeline\n",
    "import time\n",
    "print(transformers.__version__)"
   ],
   "metadata": {
    "collapsed": false,
    "pycharm": {
     "name": "#%%\n"
    }
   }
  },
  {
   "cell_type": "code",
   "execution_count": 2,
   "outputs": [],
   "source": [
    "base_directory = Path.cwd().parent\n",
    "\n",
    "dataset_name = \"yale/econ251\"\n",
    "data_dir = base_directory / 'data'\n",
    "audio_dir = data_dir / 'inputs' / dataset_name / 'lectures'\n",
    "predictions_dir = data_dir / 'predictions' / dataset_name\n",
    "\n",
    "transcripts_dir = data_dir / 'inputs' / dataset_name / 'transcripts'"
   ],
   "metadata": {
    "collapsed": false,
    "pycharm": {
     "name": "#%%\n"
    }
   }
  },
  {
   "cell_type": "code",
   "execution_count": 3,
   "outputs": [
    {
     "data": {
      "text/plain": "Downloading:   0%|          | 0.00/2.05k [00:00<?, ?B/s]",
      "application/vnd.jupyter.widget-view+json": {
       "version_major": 2,
       "version_minor": 0,
       "model_id": "5a7b0be475ef4b598e8aaeeb6e2346ee"
      }
     },
     "metadata": {},
     "output_type": "display_data"
    },
    {
     "name": "stderr",
     "output_type": "stream",
     "text": [
      "Some weights of Wav2Vec2ForCTC were not initialized from the model checkpoint at facebook/wav2vec2-base-960h and are newly initialized: ['wav2vec2.masked_spec_embed']\n",
      "You should probably TRAIN this model on a down-stream task to be able to use it for predictions and inference.\n"
     ]
    }
   ],
   "source": [
    "# load the model pipeline\n",
    "pipe = pipeline(model=\"facebook/wav2vec2-base-960h\")"
   ],
   "metadata": {
    "collapsed": false,
    "pycharm": {
     "name": "#%%\n"
    }
   }
  },
  {
   "cell_type": "code",
   "execution_count": null,
   "outputs": [],
   "source": [
    "chunk_length = 10\n",
    "\n",
    "selected_files = ['06', '07', '08', '09', '10', '11', '12', '13','14','15',\n",
    "                  '16','17','18','19','20','21','22','23','24','25','26' ]\n",
    "\n",
    "for audio_file in audio_dir.glob('*.mp3'):\n",
    "    if audio_file.stem.split('_')[1] not in selected_files:\n",
    "        continue\n",
    "\n",
    "    print(f\"Extracting text from speech for {audio_file}\")\n",
    "    start = time.time()\n",
    "    output = pipe(str(audio_file), chunk_length_s=chunk_length)\n",
    "    text = output['text']\n",
    "    time_taken = time.time()-start\n",
    "    print(f\"Speech recognition took {time.time()-start} seconds\")\n",
    "\n",
    "    print('Saving text to file')\n",
    "    file_name = 'pred_' + audio_file.stem + '_cl10'\n",
    "\n",
    "    out_file = ('baseline' / predictions_dir / file_name).with_suffix('.txt')\n",
    "    print(out_file)\n",
    "    if not out_file.is_file():\n",
    "        print(f\"Saved at {out_file}\")\n",
    "        with open(out_file, 'w') as f:\n",
    "            f.write(text)\n",
    "    else:\n",
    "        print(f\"{out_file} already exists\")"
   ],
   "metadata": {
    "collapsed": false,
    "pycharm": {
     "name": "#%%\n"
    }
   }
  }
 ],
 "metadata": {
  "kernelspec": {
   "display_name": "Python 3 (ipykernel)",
   "language": "python",
   "name": "python3"
  },
  "language_info": {
   "codemirror_mode": {
    "name": "ipython",
    "version": 3
   },
   "file_extension": ".py",
   "mimetype": "text/x-python",
   "name": "python",
   "nbconvert_exporter": "python",
   "pygments_lexer": "ipython3",
   "version": "3.9.7"
  }
 },
 "nbformat": 4,
 "nbformat_minor": 5
}