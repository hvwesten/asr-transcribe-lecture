{
 "cells": [
  {
   "cell_type": "code",
   "execution_count": null,
   "outputs": [],
   "source": [
    "from pathlib import Path\n",
    "from transformers import Wav2Vec2Processor, Wav2Vec2ForCTC\n",
    "from transformers import Wav2Vec2ProcessorWithLM\n",
    "import re\n",
    "from utils import load_custom_dataset, fix_arpa_file\n",
    "from pyctcdecode import build_ctcdecoder\n",
    "from datasets import load_dataset"
   ],
   "metadata": {
    "collapsed": false,
    "pycharm": {
     "name": "#%%\n"
    }
   }
  },
  {
   "cell_type": "code",
   "execution_count": null,
   "outputs": [],
   "source": [
    "base_directory = Path.cwd().parent\n",
    "\n",
    "dataset_name = \"yale_econ251\"\n",
    "data_dir = base_directory / 'data'\n",
    "\n",
    "dataset_size = \"normal\" # or 'tiny'\n",
    "\n",
    "if dataset_size == \"tiny\":\n",
    "    audio_dir = data_dir / 'inputs' / dataset_name / 'lectures-tiny'\n",
    "    transcripts_dir = data_dir / 'inputs' / dataset_name / 'transcripts-tiny'\n",
    "\n",
    "else:\n",
    "    audio_dir = data_dir / 'inputs' / dataset_name / 'lectures'\n",
    "    transcripts_dir = data_dir / 'inputs' / dataset_name / 'transcripts'\n",
    "\n",
    "predictions_dir = data_dir / 'predictions' / dataset_name"
   ],
   "metadata": {
    "collapsed": false,
    "pycharm": {
     "name": "#%%\n"
    }
   }
  },
  {
   "cell_type": "markdown",
   "source": [
    "###  Extract all text from dataset"
   ],
   "metadata": {
    "collapsed": false,
    "pycharm": {
     "name": "#%% md\n"
    }
   }
  },
  {
   "cell_type": "code",
   "execution_count": null,
   "outputs": [],
   "source": [
    "dataset = load_custom_dataset(audio_dir, transcripts_dir)"
   ],
   "metadata": {
    "collapsed": false,
    "pycharm": {
     "name": "#%%\n"
    }
   }
  },
  {
   "cell_type": "code",
   "execution_count": null,
   "outputs": [],
   "source": [
    "chars_to_ignore_regex = '[,?.!\\-\\;\\:\"“%‘”�—’…–]'  # change to the ignored characters of your fine-tuned model\n",
    "# ignored\n",
    "# characters of your fine-tuned model\n",
    "def extract_text(batch):\n",
    "    text = batch[\"sentence\"]\n",
    "    batch[\"txt\"] = re.sub(chars_to_ignore_regex, \"\", text.lower())\n",
    "    return batch\n"
   ],
   "metadata": {
    "collapsed": false,
    "pycharm": {
     "name": "#%%\n"
    }
   }
  },
  {
   "cell_type": "code",
   "execution_count": null,
   "outputs": [],
   "source": [
    "dataset = dataset.map(extract_text, remove_columns=dataset.column_names)"
   ],
   "metadata": {
    "collapsed": false,
    "pycharm": {
     "name": "#%%\n"
    }
   }
  },
  {
   "cell_type": "code",
   "execution_count": null,
   "outputs": [],
   "source": [
    "# save all the text to one file\n",
    "full_text_file = data_dir / 'inputs' / dataset_name / \"full_text.txt\"\n",
    "arpa_file = data_dir / 'inputs' / dataset_name / \"5gram.arpa\"\n",
    "with open(full_text_file, \"w\") as file:\n",
    "    file.write(\" \".join(dataset[\"txt\"]))"
   ],
   "metadata": {
    "collapsed": false,
    "pycharm": {
     "name": "#%%\n"
    }
   }
  },
  {
   "cell_type": "markdown",
   "source": [
    "### Create the arpa file"
   ],
   "metadata": {
    "collapsed": false,
    "pycharm": {
     "name": "#%% md\n"
    }
   }
  },
  {
   "cell_type": "code",
   "execution_count": null,
   "id": "c9bdd441",
   "metadata": {
    "collapsed": false,
    "jupyter": {
     "outputs_hidden": false
    },
    "pycharm": {
     "name": "#%%\n"
    }
   },
   "outputs": [],
   "source": [
    "# create the arpa file\n",
    "!../kenlm/build/bin/lmplz -o 5 <{full_text_file} > {arpa_file} --skip_symbols"
   ]
  },
  {
   "cell_type": "code",
   "execution_count": null,
   "id": "a564ffbe",
   "metadata": {
    "collapsed": false,
    "jupyter": {
     "outputs_hidden": false
    },
    "pycharm": {
     "name": "#%%\n"
    }
   },
   "outputs": [],
   "source": [
    "# fix issue with arpa file\n",
    "arpa_file_correct = data_dir / 'inputs' / dataset_name / \"5gram_correct.arpa\"\n",
    "fix_arpa_file(arpa_file, arpa_file_correct)"
   ]
  },
  {
   "cell_type": "markdown",
   "source": [
    "### Create the processor with the language model"
   ],
   "metadata": {
    "collapsed": false,
    "pycharm": {
     "name": "#%% md\n"
    }
   }
  },
  {
   "cell_type": "code",
   "execution_count": null,
   "outputs": [],
   "source": [
    "# load the original processor\n",
    "model_name = \"facebook/wav2vec2-base\"\n",
    "processor = Wav2Vec2Processor.from_pretrained(model_name)"
   ],
   "metadata": {
    "collapsed": false,
    "pycharm": {
     "name": "#%%\n"
    }
   }
  },
  {
   "cell_type": "code",
   "execution_count": null,
   "outputs": [],
   "source": [
    "# load the vocabulary from this processor\n",
    "vocab_dict = processor.tokenizer.get_vocab()\n",
    "sorted_vocab_dict = {k : v for k, v in sorted(vocab_dict.items(), key=lambda\n",
    "    item: item[1])}"
   ],
   "metadata": {
    "collapsed": false,
    "pycharm": {
     "name": "#%%\n"
    }
   }
  },
  {
   "cell_type": "code",
   "execution_count": null,
   "outputs": [],
   "source": [
    "decoder = build_ctcdecoder(\n",
    "    labels=list(sorted_vocab_dict.keys()),\n",
    "    kenlm_model_path=str(arpa_file_correct),\n",
    ")"
   ],
   "metadata": {
    "collapsed": false,
    "pycharm": {
     "name": "#%%\n"
    }
   }
  },
  {
   "cell_type": "code",
   "execution_count": null,
   "id": "1dd4ed01",
   "metadata": {
    "collapsed": false,
    "jupyter": {
     "outputs_hidden": false
    },
    "pycharm": {
     "name": "#%%\n"
    }
   },
   "outputs": [],
   "source": [
    "processor_with_lm = Wav2Vec2ProcessorWithLM(\n",
    "    feature_extractor=processor.feature_extractor,\n",
    "    tokenizer=processor.tokenizer,\n",
    "    decoder=decoder\n",
    ")"
   ]
  },
  {
   "cell_type": "markdown",
   "id": "fda25d8b",
   "metadata": {
    "collapsed": false,
    "jupyter": {
     "outputs_hidden": false
    },
    "pycharm": {
     "name": "#%% md\n"
    }
   },
   "source": [
    "### Predict using model with lm"
   ]
  },
  {
   "cell_type": "code",
   "execution_count": null,
   "id": "2e64c971",
   "metadata": {
    "collapsed": false,
    "jupyter": {
     "outputs_hidden": false
    },
    "pycharm": {
     "name": "#%%\n"
    }
   },
   "outputs": [],
   "source": [
    "from transformers import pipeline\n",
    "pipe = pipeline(\"automatic-speech-recognition\",\n",
    "                model=model_name,\n",
    "                tokenizer=processor_with_lm.tokenizer,\n",
    "                feature_extractor=processor_with_lm.feature_extractor,\n",
    "                decoder=decoder, device=0)"
   ]
  },
  {
   "cell_type": "code",
   "execution_count": null,
   "outputs": [],
   "source": [
    "import time\n",
    "\n",
    "model_dir = model_name.split('/')[1]\n",
    "chunk_length = 10\n",
    "#\n",
    "selected_files = ['06']#, '07', '08', '09', '10', '11', '12', '13','14','15',\n",
    "# '16','17','18','19','20','21','22','23','24','25','26' ]\n",
    "#\n",
    "for audio_file in audio_dir.glob('*.mp3'):\n",
    "    file_no = audio_file.stem.split('_')[1]\n",
    "    if file_no not in selected_files:\n",
    "        continue\n",
    "\n",
    "    print(f\"Extracting text from speech for {audio_file}\")\n",
    "    start = time.time()\n",
    "    output = pipe(str(audio_file), chunk_length_s=chunk_length)\n",
    "    text = output['text']\n",
    "    time_taken = time.time()-start\n",
    "    print(f\"Speech recognition took {time.time()-start} seconds\")\n",
    "\n",
    "    print('Saving text to file')\n",
    "    file_name = 'pred_' + file_no +\"_\" + dataset_size  + '_with_lm'\n",
    "\n",
    "    out_file = (predictions_dir / model_dir / file_name).with_suffix('.txt')\n",
    "    print(out_file)\n",
    "    if not out_file.is_file():\n",
    "        print(f\"Saved at {out_file}\")\n",
    "        with open(out_file, 'w') as f:\n",
    "            f.write(text)\n",
    "    else:\n",
    "        print(f\"{out_file} already exists\")"
   ],
   "metadata": {
    "collapsed": false,
    "pycharm": {
     "name": "#%%\n"
    }
   }
  },
  {
   "cell_type": "code",
   "execution_count": null,
   "outputs": [],
   "source": [],
   "metadata": {
    "collapsed": false,
    "pycharm": {
     "name": "#%%\n"
    }
   }
  }
 ],
 "metadata": {
  "kernelspec": {
   "display_name": "Python 3 (ipykernel)",
   "language": "python",
   "name": "python3"
  },
  "language_info": {
   "codemirror_mode": {
    "name": "ipython",
    "version": 3
   },
   "file_extension": ".py",
   "mimetype": "text/x-python",
   "name": "python",
   "nbconvert_exporter": "python",
   "pygments_lexer": "ipython3",
   "version": "3.9.12"
  }
 },
 "nbformat": 4,
 "nbformat_minor": 5
}