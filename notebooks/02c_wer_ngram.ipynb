{
 "cells": [
  {
   "cell_type": "code",
   "execution_count": 1,
   "outputs": [],
   "source": [
    "import jiwer\n",
    "from pathlib import Path\n",
    "import matplotlib.pyplot as plt\n",
    "import numpy as np\n",
    "from utils import load_custom_dataset"
   ],
   "metadata": {
    "collapsed": false,
    "pycharm": {
     "name": "#%%\n"
    }
   }
  },
  {
   "cell_type": "code",
   "execution_count": 2,
   "outputs": [],
   "source": [
    "base_directory = Path.cwd().parent\n",
    "\n",
    "dataset_name = \"yale_econ251\"\n",
    "data_dir = base_directory / 'data'\n",
    "\n",
    "dataset_size = \"normal\" # or 'tiny'\n",
    "\n",
    "if dataset_size == \"tiny\":\n",
    "    audio_dir = data_dir / 'inputs' / dataset_name / 'lectures-tiny'\n",
    "    transcripts_dir = data_dir / 'inputs' / dataset_name / 'transcripts-tiny'\n",
    "else:\n",
    "    audio_dir = data_dir / 'inputs' / dataset_name / 'lectures'\n",
    "    transcripts_dir = data_dir / 'inputs' / dataset_name / 'transcripts'\n"
   ],
   "metadata": {
    "collapsed": false,
    "pycharm": {
     "name": "#%%\n"
    }
   }
  },
  {
   "cell_type": "code",
   "execution_count": 3,
   "outputs": [],
   "source": [
    "\n",
    "model_dir = \"wav2vec2-base-100h\" # baseline\n",
    "# model_name = \"facebook/wav2vec2-base\""
   ],
   "metadata": {
    "collapsed": false,
    "pycharm": {
     "name": "#%%\n"
    }
   }
  },
  {
   "cell_type": "code",
   "execution_count": 4,
   "outputs": [],
   "source": [
    "lm_dataset = \"other\" #\"glue\" #\"custom\" #\"glue\" # or custom"
   ],
   "metadata": {
    "collapsed": false,
    "pycharm": {
     "name": "#%%\n"
    }
   }
  },
  {
   "cell_type": "code",
   "execution_count": 5,
   "outputs": [],
   "source": [
    "predictions_dir = data_dir / 'predictions' / dataset_name / model_dir"
   ],
   "metadata": {
    "collapsed": false,
    "pycharm": {
     "name": "#%%\n"
    }
   }
  },
  {
   "cell_type": "code",
   "execution_count": 6,
   "outputs": [
    {
     "data": {
      "text/plain": "52"
     },
     "execution_count": 6,
     "metadata": {},
     "output_type": "execute_result"
    }
   ],
   "source": [
    "import os\n",
    "len(os.listdir(predictions_dir))"
   ],
   "metadata": {
    "collapsed": false,
    "pycharm": {
     "name": "#%%\n"
    }
   }
  },
  {
   "cell_type": "code",
   "execution_count": 7,
   "outputs": [],
   "source": [
    "transformation = jiwer.Compose([\n",
    "    jiwer.ToUpperCase(),\n",
    "    jiwer.RemoveWhiteSpace(replace_by_space=True),\n",
    "    jiwer.RemoveMultipleSpaces(),\n",
    "    jiwer.RemovePunctuation(),\n",
    "    jiwer.ReduceToListOfListOfWords(word_delimiter=\" \")\n",
    "])"
   ],
   "metadata": {
    "collapsed": false,
    "pycharm": {
     "name": "#%%\n"
    }
   }
  },
  {
   "cell_type": "code",
   "execution_count": 8,
   "outputs": [],
   "source": [
    "errors = []\n",
    "\n",
    "# selected_files = ['06']#['01', '02', '03', '04', '05' ]\n",
    "\n",
    "for transcript in transcripts_dir.glob('*.txt'):\n",
    "    file_no = transcript.stem\n",
    "    # if file_no not in selected_files:\n",
    "    #     continue\n",
    "\n",
    "    # load the ground truth text\n",
    "    with open(transcript, 'r') as f:\n",
    "        ground_truth = f.read()\n",
    "\n",
    "    # load the predicted text\n",
    "    pred_file_name = 'pred_' + file_no + '_' + dataset_size + '_lm_' + lm_dataset\n",
    "    pred_file_path = (predictions_dir / pred_file_name).with_suffix('.txt')\n",
    "\n",
    "    # if not pred_file_path.is_file():\n",
    "    #     print(pred_file_path)\n",
    "    #     continue\n",
    "    with open(pred_file_path, 'r') as f:\n",
    "        hypothesis = f.read()\n",
    "\n",
    "    # measures = jiwer.compute_measures(ground_truth,\n",
    "    #                                   hypothesis,\n",
    "    #                                   truth_transform=transformation,\n",
    "    #                                   hypothesis_transform=transformation)\n",
    "\n",
    "    wer = jiwer.wer(ground_truth,\n",
    "                    hypothesis,\n",
    "                    truth_transform=transformation,\n",
    "                    hypothesis_transform=transformation)\n",
    "\n",
    "    # wer = measures['wer']\n",
    "    # mer = measures['mer']\n",
    "    # wil = measures['wil']\n",
    "    # errors.append([wer, mer, wil])\n",
    "    errors.append(wer)\n"
   ],
   "metadata": {
    "collapsed": false,
    "pycharm": {
     "name": "#%%\n"
    }
   }
  },
  {
   "cell_type": "code",
   "execution_count": 9,
   "outputs": [
    {
     "data": {
      "text/plain": "[0.3555480378890392,\n 0.3678957353790316,\n 0.4064254809905183,\n 0.3102791352604986,\n 0.3634315424610052,\n 0.4359044995408632,\n 0.36285315119528094,\n 0.39152875634933637,\n 0.33417971505148825,\n 0.3121073067419696,\n 0.37777967112550054,\n 0.41030383091149275,\n 0.38090692124105013,\n 0.3887578213150067,\n 0.4304260376668495,\n 0.37655343827671917,\n 0.35047603547888356,\n 0.3752386146713935,\n 0.4324254661053355,\n 0.42304266860982914,\n 0.3782309274662374,\n 0.4156859221992633,\n 0.3302185883530786,\n 0.3885001794043775,\n 0.3887727963525836,\n 0.3895582329317269]"
     },
     "execution_count": 9,
     "metadata": {},
     "output_type": "execute_result"
    }
   ],
   "source": [
    "errors"
   ],
   "metadata": {
    "collapsed": false,
    "pycharm": {
     "name": "#%%\n"
    }
   }
  },
  {
   "cell_type": "code",
   "execution_count": 10,
   "outputs": [
    {
     "data": {
      "text/plain": "<Figure size 432x288 with 1 Axes>",
      "image/png": "[encoded data removed]"
     },
     "metadata": {
      "needs_background": "light"
     },
     "output_type": "display_data"
    },
    {
     "name": "stdout",
     "output_type": "stream",
     "text": [
      "Average WER: 0.3798857889603215\n"
     ]
    }
   ],
   "source": [
    "xrange = [i for i in range(len(errors))]\n",
    "plt.plot(xrange, errors, label=\"WER\")\n",
    "# plt.plot(xrange, np.array(errors)[:,0], label=\"WER\")\n",
    "# plt.plot(xrange, np.array(errors)[:,1], label=\"MER\")\n",
    "# plt.plot(xrange, np.array(errors)[:,2], label=\"WIL\")\n",
    "plt.title(f\"{model_dir}  {lm_dataset}\")\n",
    "plt.xlabel(\"lecture no.\")\n",
    "plt.ylabel(\"Score\")\n",
    "plt.legend()\n",
    "plt.grid()\n",
    "plt.show()\n",
    "\n",
    "# print(f\"Average WER: {np.average(np.array(errors)[:,0])}\")\n",
    "# print(f\"Average MER: {np.average(np.array(errors)[:,1])}\")\n",
    "# print(f\"Average WIL: {np.average(np.array(errors)[:,2])}\")\n",
    "print(f\"Average WER: {np.average(np.array(errors))}\")"
   ],
   "metadata": {
    "collapsed": false,
    "pycharm": {
     "name": "#%%\n"
    }
   }
  },
  {
   "cell_type": "code",
   "execution_count": null,
   "outputs": [],
   "source": [],
   "metadata": {
    "collapsed": false,
    "pycharm": {
     "name": "#%%\n"
    }
   }
  }
 ],
 "metadata": {
  "kernelspec": {
   "display_name": "Python 3 (ipykernel)",
   "language": "python",
   "name": "python3"
  },
  "language_info": {
   "codemirror_mode": {
    "name": "ipython",
    "version": 3
   },
   "file_extension": ".py",
   "mimetype": "text/x-python",
   "name": "python",
   "nbconvert_exporter": "python",
   "pygments_lexer": "ipython3",
   "version": "3.9.7"
  }
 },
 "nbformat": 4,
 "nbformat_minor": 5
}