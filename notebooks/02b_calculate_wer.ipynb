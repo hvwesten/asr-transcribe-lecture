{
 "cells": [
  {
   "cell_type": "code",
   "execution_count": null,
   "outputs": [],
   "source": [
    "import jiwer\n",
    "from pathlib import Path\n",
    "import matplotlib.pyplot as plt\n",
    "import numpy as np\n",
    "from utils import load_custom_dataset"
   ],
   "metadata": {
    "collapsed": false,
    "pycharm": {
     "name": "#%%\n"
    }
   }
  },
  {
   "cell_type": "code",
   "execution_count": null,
   "outputs": [],
   "source": [
    "base_directory = Path.cwd().parent\n",
    "\n",
    "dataset_name = \"yale_econ251\"\n",
    "data_dir = base_directory / 'data'\n",
    "\n",
    "dataset_size = \"normal\" # or 'tiny'\n",
    "\n",
    "if dataset_size == \"tiny\":\n",
    "    audio_dir = data_dir / 'inputs' / dataset_name / 'lectures-tiny'\n",
    "    transcripts_dir = data_dir / 'inputs' / dataset_name / 'transcripts-tiny'\n",
    "else:\n",
    "    audio_dir = data_dir / 'inputs' / dataset_name / 'lectures'\n",
    "    transcripts_dir = data_dir / 'inputs' / dataset_name / 'transcripts'\n"
   ],
   "metadata": {
    "collapsed": false,
    "pycharm": {
     "name": "#%%\n"
    }
   }
  },
  {
   "cell_type": "code",
   "execution_count": null,
   "outputs": [],
   "source": [
    "\n",
    "model_dir = \"wav2vec2-base-100h\" # baseline\n",
    "# model_name = \"facebook/wav2vec2-base\""
   ],
   "metadata": {
    "collapsed": false,
    "pycharm": {
     "name": "#%%\n"
    }
   }
  },
  {
   "cell_type": "code",
   "execution_count": null,
   "outputs": [],
   "source": [
    "predictions_dir = data_dir / 'predictions' / dataset_name / model_dir"
   ],
   "metadata": {
    "collapsed": false,
    "pycharm": {
     "name": "#%%\n"
    }
   }
  },
  {
   "cell_type": "code",
   "execution_count": null,
   "outputs": [],
   "source": [
    "import os\n",
    "os.listdir(predictions_dir)"
   ],
   "metadata": {
    "collapsed": false,
    "pycharm": {
     "name": "#%%\n"
    }
   }
  },
  {
   "cell_type": "code",
   "execution_count": null,
   "outputs": [],
   "source": [
    "transformation = jiwer.Compose([\n",
    "    jiwer.ToUpperCase(),\n",
    "    jiwer.RemoveWhiteSpace(replace_by_space=True),\n",
    "    jiwer.RemoveMultipleSpaces(),\n",
    "    jiwer.RemovePunctuation(),\n",
    "    jiwer.ReduceToListOfListOfWords(word_delimiter=\" \")\n",
    "])"
   ],
   "metadata": {
    "collapsed": false,
    "pycharm": {
     "name": "#%%\n"
    }
   }
  },
  {
   "cell_type": "code",
   "execution_count": null,
   "outputs": [],
   "source": [
    "errors = []\n",
    "\n",
    "selected_files = ['06']#['01', '02', '03', '04', '05' ]\n",
    "\n",
    "for transcript in transcripts_dir.glob('*.txt'):\n",
    "    print(transcript)\n",
    "    file_no = transcript.stem\n",
    "    if file_no not in selected_files:\n",
    "        continue\n",
    "\n",
    "    # load the ground truth text\n",
    "    with open(transcript, 'r') as f:\n",
    "        ground_truth = f.read()\n",
    "\n",
    "    # load the predicted text\n",
    "    pred_file_name = 'pred_' + file_no + '_' + dataset_size + '_with_lm'\n",
    "    pred_file_path = (predictions_dir / pred_file_name).with_suffix('.txt')\n",
    "\n",
    "    with open(pred_file_path, 'r') as f:\n",
    "        hypothesis = f.read()\n",
    "\n",
    "    measures = jiwer.compute_measures(ground_truth,\n",
    "                                      hypothesis,\n",
    "                                      truth_transform=transformation,\n",
    "                                      hypothesis_transform=transformation)\n",
    "    wer = measures['wer']\n",
    "    mer = measures['mer']\n",
    "    wil = measures['wil']\n",
    "    #\n",
    "    errors.append([wer, mer, wil])\n"
   ],
   "metadata": {
    "collapsed": false,
    "pycharm": {
     "name": "#%%\n"
    }
   }
  },
  {
   "cell_type": "code",
   "execution_count": null,
   "outputs": [],
   "source": [
    "errors"
   ],
   "metadata": {
    "collapsed": false,
    "pycharm": {
     "name": "#%%\n"
    }
   }
  },
  {
   "cell_type": "code",
   "execution_count": null,
   "outputs": [],
   "source": [
    "xrange = [i for i in range(len(errors))]\n",
    "\n",
    "plt.plot(xrange, np.array(errors)[:,0], label=\"WER\")\n",
    "plt.plot(xrange, np.array(errors)[:,1], label=\"MER\")\n",
    "plt.plot(xrange, np.array(errors)[:,2], label=\"WIL\")\n",
    "plt.title(f\"{dataset_name}\")\n",
    "plt.xlabel(\"lecture no.\")\n",
    "plt.ylabel(\"Score\")\n",
    "plt.legend()\n",
    "plt.grid()\n",
    "plt.show()\n",
    "\n",
    "print(f\"Average WER: {np.average(np.array(errors)[:,0])}\")\n",
    "print(f\"Average MER: {np.average(np.array(errors)[:,1])}\")\n",
    "print(f\"Average WIL: {np.average(np.array(errors)[:,2])}\")\n"
   ],
   "metadata": {
    "collapsed": false,
    "pycharm": {
     "name": "#%%\n"
    }
   }
  }
 ],
 "metadata": {
  "kernelspec": {
   "display_name": "Python 3 (ipykernel)",
   "language": "python",
   "name": "python3"
  },
  "language_info": {
   "codemirror_mode": {
    "name": "ipython",
    "version": 3
   },
   "file_extension": ".py",
   "mimetype": "text/x-python",
   "name": "python",
   "nbconvert_exporter": "python",
   "pygments_lexer": "ipython3",
   "version": "3.9.7"
  }
 },
 "nbformat": 4,
 "nbformat_minor": 5
}