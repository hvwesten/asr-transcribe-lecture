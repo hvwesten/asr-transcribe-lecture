{
 "cells": [
  {
   "cell_type": "code",
   "execution_count": 13,
   "outputs": [],
   "source": [
    "import jiwer\n",
    "from pathlib import Path\n",
    "import matplotlib.pyplot as plt"
   ],
   "metadata": {
    "collapsed": false,
    "pycharm": {
     "name": "#%%\n"
    }
   }
  },
  {
   "cell_type": "code",
   "execution_count": 14,
   "outputs": [],
   "source": [
    "base_directory = Path.cwd().parent\n",
    "\n",
    "dataset_name = \"yale/econ251\"\n",
    "data_directory = base_directory / 'data'\n",
    "\n",
    "transcripts_directory = data_directory / 'inputs' / dataset_name / 'transcripts'\n",
    "predictions_directory = data_directory / 'predictions' / dataset_name"
   ],
   "metadata": {
    "collapsed": false,
    "pycharm": {
     "name": "#%%\n"
    }
   }
  },
  {
   "cell_type": "code",
   "execution_count": 16,
   "outputs": [
    {
     "name": "stdout",
     "output_type": "stream",
     "text": [
      "/home/hvwesten/Projects/uni/ASR/asr-transcribe-lecture/data/predictions/yale/econ251\n"
     ]
    }
   ],
   "source": [
    "print(predictions_directory)"
   ],
   "metadata": {
    "collapsed": false,
    "pycharm": {
     "name": "#%%\n"
    }
   }
  },
  {
   "cell_type": "code",
   "execution_count": 17,
   "outputs": [],
   "source": [
    "transformation = jiwer.Compose([\n",
    "    jiwer.ToUpperCase(),\n",
    "    jiwer.RemoveWhiteSpace(replace_by_space=True),\n",
    "    jiwer.RemoveMultipleSpaces(),\n",
    "    jiwer.RemovePunctuation(),\n",
    "    jiwer.ReduceToListOfListOfWords(word_delimiter=\" \")\n",
    "])"
   ],
   "metadata": {
    "collapsed": false,
    "pycharm": {
     "name": "#%%\n"
    }
   }
  },
  {
   "cell_type": "code",
   "execution_count": 21,
   "outputs": [
    {
     "name": "stdout",
     "output_type": "stream",
     "text": [
      "/home/hvwesten/Projects/uni/ASR/asr-transcribe-lecture/data/inputs/yale/econ251/transcripts/01.txt\n",
      "pred_file_path=PosixPath('/home/hvwesten/Projects/uni/ASR/asr-transcribe-lecture/data/predictions/yale/econ251/01esp.txt')\n"
     ]
    }
   ],
   "source": [
    "errors = []\n",
    "\n",
    "count = 0\n",
    "\n",
    "for transcript in transcripts_directory.glob('*.txt'):\n",
    "\n",
    "    print(transcript)\n",
    "    # load the ground truth text\n",
    "    with open(transcript, 'r') as f:\n",
    "        ground_truth = f.read()\n",
    "\n",
    "\n",
    "    # load the predicted text\n",
    "    # prediction = range()\n",
    "    pred_file_name = transcript.stem + 'esp'\n",
    "    pred_file_path = (predictions_directory / pred_file_name).with_suffix('.txt')\n",
    "\n",
    "    print(f\"{pred_file_path=}\")\n",
    "    # with open(prediction, 'r') as f:\n",
    "    #     hypothesis = f.read()\n",
    "    #\n",
    "    #\n",
    "    # # calculate the WER using the defined transformation\n",
    "    # error = jiwer.wer(\n",
    "    #     ground_truth,\n",
    "    #     hypothesis,\n",
    "    #     truth_transform=transformation,\n",
    "    #     hypothesis_transform=transformation\n",
    "    # )\n",
    "    # errors.append(error)\n"
   ],
   "metadata": {
    "collapsed": false,
    "pycharm": {
     "name": "#%%\n"
    }
   }
  },
  {
   "cell_type": "code",
   "execution_count": null,
   "outputs": [],
   "source": [
    "for"
   ],
   "metadata": {
    "collapsed": false,
    "pycharm": {
     "name": "#%%\n"
    }
   }
  },
  {
   "cell_type": "code",
   "execution_count": 10,
   "outputs": [
    {
     "data": {
      "text/plain": "[]"
     },
     "execution_count": 10,
     "metadata": {},
     "output_type": "execute_result"
    }
   ],
   "source": [
    "errors"
   ],
   "metadata": {
    "collapsed": false,
    "pycharm": {
     "name": "#%%\n"
    }
   }
  },
  {
   "cell_type": "code",
   "execution_count": 9,
   "outputs": [
    {
     "data": {
      "text/plain": "<Figure size 432x288 with 1 Axes>",
      "image/png": "[encoded data removed]"
     },
     "metadata": {
      "needs_background": "light"
     },
     "output_type": "display_data"
    }
   ],
   "source": [
    "xrange = [i for i in range(len(errors))]\n",
    "\n",
    "plt.plot(xrange, errors)\n",
    "\n",
    "plt.title(f\"{dataset_name}\")\n",
    "plt.xlabel(\"lecture no.\")\n",
    "plt.ylabel(\"WER\")\n",
    "plt.show()"
   ],
   "metadata": {
    "collapsed": false,
    "pycharm": {
     "name": "#%%\n"
    }
   }
  },
  {
   "cell_type": "code",
   "execution_count": 36,
   "outputs": [
    {
     "name": "stdout",
     "output_type": "stream",
     "text": [
      "[0.32115429369327436, 0.31037157706927315, 0.3095182685594601, 0.3038554029943371]\n",
      "[262, 268, 298, 377]\n"
     ]
    },
    {
     "data": {
      "text/plain": "<Figure size 432x288 with 1 Axes>",
      "image/png": "[encoded data removed]"
     },
     "metadata": {
      "needs_background": "light"
     },
     "output_type": "display_data"
    }
   ],
   "source": [
    "## Compare chunk lengths\n",
    "\n",
    "ground_truth_file = transcripts_directory / \"01.txt\"\n",
    "with open(ground_truth_file, 'r') as f:\n",
    "    ground_truth = f.read()\n",
    "\n",
    "\n",
    "predicted_texts = [\"01_cl5.txt\", \"01_cl10.txt\", \"01_cl15.txt\", \"01_cl20.txt\"]\n",
    "errors = []\n",
    "#\n",
    "for pred in predicted_texts:\n",
    "    file_path = predictions_directory / pred\n",
    "\n",
    "    with open(file_path, 'r') as f:\n",
    "        hypothesis = f.read()\n",
    "\n",
    "    error = jiwer.wer(\n",
    "        ground_truth,\n",
    "        hypothesis,\n",
    "        truth_transform=transformation,\n",
    "        hypothesis_transform=transformation\n",
    "    )\n",
    "    errors.append(error)\n",
    "\n",
    "time_taken = [262, 268, 298, 377 ] # in seconds\n",
    "\n",
    "print(errors)\n",
    "print(time_taken)\n",
    "\n",
    "plt.plot(predicted_texts, errors)\n",
    "plt.title(f\"Compare chunk lengths for lecture 01\")\n",
    "plt.xlabel(\"Chunk length \")\n",
    "plt.ylabel(\"WER\")\n",
    "plt.grid()\n",
    "plt.show()"
   ],
   "metadata": {
    "collapsed": false,
    "pycharm": {
     "name": "#%%\n"
    }
   }
  },
  {
   "cell_type": "code",
   "execution_count": null,
   "outputs": [],
   "source": [],
   "metadata": {
    "collapsed": false,
    "pycharm": {
     "name": "#%%\n"
    }
   }
  }
 ],
 "metadata": {
  "kernelspec": {
   "display_name": "Python 3 (ipykernel)",
   "language": "python",
   "name": "python3"
  },
  "language_info": {
   "codemirror_mode": {
    "name": "ipython",
    "version": 3
   },
   "file_extension": ".py",
   "mimetype": "text/x-python",
   "name": "python",
   "nbconvert_exporter": "python",
   "pygments_lexer": "ipython3",
   "version": "3.9.7"
  }
 },
 "nbformat": 4,
 "nbformat_minor": 5
}