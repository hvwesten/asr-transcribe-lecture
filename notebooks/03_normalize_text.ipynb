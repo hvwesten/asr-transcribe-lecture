{
 "cells": [
  {
   "cell_type": "markdown",
   "id": "21159720-e992-442e-9a79-8d860412c0a4",
   "metadata": {
    "pycharm": {
     "name": "#%% md\n"
    }
   },
   "source": [
    "## Incomplete -- Normalize Text"
   ]
  },
  {
   "cell_type": "code",
   "execution_count": null,
   "outputs": [],
   "source": [
    "from pathlib import Path"
   ],
   "metadata": {
    "collapsed": false,
    "pycharm": {
     "name": "#%%\n"
    }
   }
  },
  {
   "cell_type": "code",
   "execution_count": null,
   "outputs": [],
   "source": [
    "base_directory = Path.cwd().parent\n",
    "\n",
    "dataset_name = \"yale/econ251\"\n",
    "data_directory = base_directory / 'data'\n",
    "\n",
    "predictions_directory = data_directory / 'predictions' / dataset_name\n",
    "norm_directory = data_directory / 'normal_text'"
   ],
   "metadata": {
    "collapsed": false,
    "pycharm": {
     "name": "#%%\n"
    }
   }
  },
  {
   "cell_type": "code",
   "execution_count": null,
   "outputs": [],
   "source": [
    "for text_file in predictions_directory.glob('*.txt'):\n",
    "    print(text_file)\n",
    "    # with open(text_file, 'r') as f:\n",
    "    #     x = f.read()\n",
    "\n",
    "\n",
    "    # print(x[:1000])"
   ],
   "metadata": {
    "collapsed": false,
    "pycharm": {
     "name": "#%%\n"
    }
   }
  },
  {
   "cell_type": "code",
   "execution_count": null,
   "outputs": [],
   "source": [
    "from denormalizer.denormalize import denormalize_file\n",
    "# import argparse\n",
    "import sys\n",
    "\n",
    "from fairseq.models.transformer import TransformerModel\n",
    "from fairseq.models.transformer import base_architecture\n",
    "import fairseq.scripts.custom_arch\n",
    "\n",
    "lang = 'en'\n",
    "size = 'l'\n",
    "detokenize = False\n",
    "\n",
    "# file = 'econ251_01_090309.txt'\n",
    "# beam = 5\n",
    "# outfile ='econ251_01_090309_normal.txt'\n",
    "#\n",
    "# print(f'./model_{lang}_{size}.pt')\n",
    "#\n",
    "# DENORMALIZER = TransformerModel.from_pretrained(\n",
    "#     'models',\n",
    "#     checkpoint_file=f'model_{lang}_{size}.pt',\n",
    "#     data_name_or_path=f'data-bin/{lang}',\n",
    "#     bpe='subword_nmt',\n",
    "#     bpe_codes=f'data-bin/{lang}/bpe_code',\n",
    "#     tokenizer=None )#('moses' if detokenize else None))\n",
    "#\n",
    "# denormalize_file(DENORMALIZER, file, beam, outfile)\n",
    "\n",
    "\n",
    "\n",
    "    # if args.string:\n",
    "    #     denormalize_string(DENORMALIZER, args.string, args.beam, args.outfile)\n",
    "    # elif args.file:\n",
    "\n",
    "    # else:\n",
    "    #     denormalize_interactively(DENORMALIZER, args.beam)"
   ],
   "metadata": {
    "collapsed": false,
    "pycharm": {
     "name": "#%%\n"
    }
   }
  },
  {
   "cell_type": "code",
   "execution_count": null,
   "outputs": [],
   "source": [],
   "metadata": {
    "collapsed": false,
    "pycharm": {
     "name": "#%%\n"
    }
   }
  }
 ],
 "metadata": {
  "kernelspec": {
   "display_name": "Python 3 (ipykernel)",
   "language": "python",
   "name": "python3"
  },
  "language_info": {
   "codemirror_mode": {
    "name": "ipython",
    "version": 3
   },
   "file_extension": ".py",
   "mimetype": "text/x-python",
   "name": "python",
   "nbconvert_exporter": "python",
   "pygments_lexer": "ipython3",
   "version": "3.9.7"
  }
 },
 "nbformat": 4,
 "nbformat_minor": 5
}