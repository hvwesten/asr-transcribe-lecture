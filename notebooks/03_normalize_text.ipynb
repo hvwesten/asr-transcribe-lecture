{
 "cells": [
  {
   "cell_type": "markdown",
   "id": "21159720-e992-442e-9a79-8d860412c0a4",
   "metadata": {
    "pycharm": {
     "name": "#%% md\n"
    }
   },
   "source": [
    "## Normalize Text"
   ]
  },
  {
   "cell_type": "code",
   "execution_count": 1,
   "outputs": [],
   "source": [
    "from pathlib import Path"
   ],
   "metadata": {
    "collapsed": false,
    "pycharm": {
     "name": "#%%\n"
    }
   }
  },
  {
   "cell_type": "code",
   "execution_count": 2,
   "outputs": [],
   "source": [
    "\n",
    "raw_text_directory = Path.cwd() / 'raw_text'"
   ],
   "metadata": {
    "collapsed": false,
    "pycharm": {
     "name": "#%%\n"
    }
   }
  },
  {
   "cell_type": "code",
   "execution_count": 3,
   "outputs": [
    {
     "name": "stdout",
     "output_type": "stream",
     "text": [
      "/home/hvwesten/Projects/ASR/raw_text/econ251_01_090309.txt\n",
      "so any way the course i'm going to teach is called financial theory and i'm going to talk about i'm going to teach him actual class on the spent the first half the class talking about the course and while you might be interested in it and then i'm going to start with the course i mean that that many lectures available the semester saw i'm not going to waste this on another first half the class is going to be but why to study it and the mechanics of the course and the second half looked lecture is going to be actually the first part of the course they'll give you may be an idea of whether you'll find the course interesting too southerner so you should know that finance was not taught until ten years ago at yale it was regarded by the deans and the classically minded faculty of the arts and sciences as a vocational subject not worthy of being taught to yale and the graduates it was growing more and more famous however in the world and there was a band of business school professors fisher\n"
     ]
    }
   ],
   "source": [
    "for text_file in raw_text_directory.glob('*.txt'):\n",
    "    print(text_file)\n",
    "    with open(text_file, 'r') as f:\n",
    "        x = f.read()\n",
    "\n",
    "\n",
    "    print(x[:1000])"
   ],
   "metadata": {
    "collapsed": false,
    "pycharm": {
     "name": "#%%\n"
    }
   }
  },
  {
   "cell_type": "code",
   "execution_count": 4,
   "outputs": [],
   "source": [
    "!export CURL_CA_BUNDLE=\"\""
   ],
   "metadata": {
    "collapsed": false,
    "pycharm": {
     "name": "#%%\n"
    }
   }
  },
  {
   "cell_type": "code",
   "execution_count": 12,
   "outputs": [
    {
     "name": "stderr",
     "output_type": "stream",
     "text": [
      "2022-03-14 21:17:10 | INFO | fairseq.file_utils | Archive name 'models' was not found in archive name list. We assumed 'models' was a path or URL but couldn't find any file associated to this path or URL.\n",
      "2022-03-14 21:17:10 | INFO | fairseq.file_utils | Archive name 'data-bin/en' was not found in archive name list. We assumed 'data-bin/en' was a path or URL but couldn't find any file associated to this path or URL.\n"
     ]
    },
    {
     "name": "stdout",
     "output_type": "stream",
     "text": [
      "./model_en_l.pt\n"
     ]
    },
    {
     "ename": "TypeError",
     "evalue": "expected str, bytes or os.PathLike object, not NoneType",
     "output_type": "error",
     "traceback": [
      "\u001B[0;31m---------------------------------------------------------------------------\u001B[0m",
      "\u001B[0;31mTypeError\u001B[0m                                 Traceback (most recent call last)",
      "\u001B[0;32m/tmp/ipykernel_68875/3198938616.py\u001B[0m in \u001B[0;36m<module>\u001B[0;34m\u001B[0m\n\u001B[1;32m     23\u001B[0m     \u001B[0mbpe\u001B[0m\u001B[0;34m=\u001B[0m\u001B[0;34m'subword_nmt'\u001B[0m\u001B[0;34m,\u001B[0m\u001B[0;34m\u001B[0m\u001B[0;34m\u001B[0m\u001B[0m\n\u001B[1;32m     24\u001B[0m     \u001B[0mbpe_codes\u001B[0m\u001B[0;34m=\u001B[0m\u001B[0;34mf'data-bin/{lang}/bpe_code'\u001B[0m\u001B[0;34m,\u001B[0m\u001B[0;34m\u001B[0m\u001B[0;34m\u001B[0m\u001B[0m\n\u001B[0;32m---> 25\u001B[0;31m     tokenizer=None )#('moses' if detokenize else None))\n\u001B[0m\u001B[1;32m     26\u001B[0m \u001B[0;34m\u001B[0m\u001B[0m\n\u001B[1;32m     27\u001B[0m \u001B[0mdenormalize_file\u001B[0m\u001B[0;34m(\u001B[0m\u001B[0mDENORMALIZER\u001B[0m\u001B[0;34m,\u001B[0m \u001B[0mfile\u001B[0m\u001B[0;34m,\u001B[0m \u001B[0mbeam\u001B[0m\u001B[0;34m,\u001B[0m \u001B[0moutfile\u001B[0m\u001B[0;34m)\u001B[0m\u001B[0;34m\u001B[0m\u001B[0;34m\u001B[0m\u001B[0m\n",
      "\u001B[0;32m~/Projects/ASR/fairseq/fairseq/models/fairseq_model.py\u001B[0m in \u001B[0;36mfrom_pretrained\u001B[0;34m(cls, model_name_or_path, checkpoint_file, data_name_or_path, **kwargs)\u001B[0m\n\u001B[1;32m    270\u001B[0m             \u001B[0mdata_name_or_path\u001B[0m\u001B[0;34m,\u001B[0m\u001B[0;34m\u001B[0m\u001B[0;34m\u001B[0m\u001B[0m\n\u001B[1;32m    271\u001B[0m             \u001B[0marchive_map\u001B[0m\u001B[0;34m=\u001B[0m\u001B[0mcls\u001B[0m\u001B[0;34m.\u001B[0m\u001B[0mhub_models\u001B[0m\u001B[0;34m(\u001B[0m\u001B[0;34m)\u001B[0m\u001B[0;34m,\u001B[0m\u001B[0;34m\u001B[0m\u001B[0;34m\u001B[0m\u001B[0m\n\u001B[0;32m--> 272\u001B[0;31m             \u001B[0;34m**\u001B[0m\u001B[0mkwargs\u001B[0m\u001B[0;34m,\u001B[0m\u001B[0;34m\u001B[0m\u001B[0;34m\u001B[0m\u001B[0m\n\u001B[0m\u001B[1;32m    273\u001B[0m         )\n\u001B[1;32m    274\u001B[0m         \u001B[0mlogger\u001B[0m\u001B[0;34m.\u001B[0m\u001B[0minfo\u001B[0m\u001B[0;34m(\u001B[0m\u001B[0mx\u001B[0m\u001B[0;34m[\u001B[0m\u001B[0;34m\"args\"\u001B[0m\u001B[0;34m]\u001B[0m\u001B[0;34m)\u001B[0m\u001B[0;34m\u001B[0m\u001B[0;34m\u001B[0m\u001B[0m\n",
      "\u001B[0;32m~/Projects/ASR/fairseq/fairseq/hub_utils.py\u001B[0m in \u001B[0;36mfrom_pretrained\u001B[0;34m(model_name_or_path, checkpoint_file, data_name_or_path, archive_map, **kwargs)\u001B[0m\n\u001B[1;32m     64\u001B[0m         \u001B[0;34m\"vocab.json\"\u001B[0m\u001B[0;34m:\u001B[0m \u001B[0;34m\"bpe_vocab\"\u001B[0m\u001B[0;34m,\u001B[0m\u001B[0;34m\u001B[0m\u001B[0;34m\u001B[0m\u001B[0m\n\u001B[1;32m     65\u001B[0m     }.items():\n\u001B[0;32m---> 66\u001B[0;31m         \u001B[0mpath\u001B[0m \u001B[0;34m=\u001B[0m \u001B[0mos\u001B[0m\u001B[0;34m.\u001B[0m\u001B[0mpath\u001B[0m\u001B[0;34m.\u001B[0m\u001B[0mjoin\u001B[0m\u001B[0;34m(\u001B[0m\u001B[0mmodel_path\u001B[0m\u001B[0;34m,\u001B[0m \u001B[0mfile\u001B[0m\u001B[0;34m)\u001B[0m\u001B[0;34m\u001B[0m\u001B[0;34m\u001B[0m\u001B[0m\n\u001B[0m\u001B[1;32m     67\u001B[0m         \u001B[0;32mif\u001B[0m \u001B[0mos\u001B[0m\u001B[0;34m.\u001B[0m\u001B[0mpath\u001B[0m\u001B[0;34m.\u001B[0m\u001B[0mexists\u001B[0m\u001B[0;34m(\u001B[0m\u001B[0mpath\u001B[0m\u001B[0;34m)\u001B[0m\u001B[0;34m:\u001B[0m\u001B[0;34m\u001B[0m\u001B[0;34m\u001B[0m\u001B[0m\n\u001B[1;32m     68\u001B[0m             \u001B[0mkwargs\u001B[0m\u001B[0;34m[\u001B[0m\u001B[0marg\u001B[0m\u001B[0;34m]\u001B[0m \u001B[0;34m=\u001B[0m \u001B[0mpath\u001B[0m\u001B[0;34m\u001B[0m\u001B[0;34m\u001B[0m\u001B[0m\n",
      "\u001B[0;32m~/miniconda3/envs/asr/lib/python3.7/posixpath.py\u001B[0m in \u001B[0;36mjoin\u001B[0;34m(a, *p)\u001B[0m\n\u001B[1;32m     78\u001B[0m     \u001B[0mwill\u001B[0m \u001B[0mbe\u001B[0m \u001B[0mdiscarded\u001B[0m\u001B[0;34m.\u001B[0m  \u001B[0mAn\u001B[0m \u001B[0mempty\u001B[0m \u001B[0mlast\u001B[0m \u001B[0mpart\u001B[0m \u001B[0mwill\u001B[0m \u001B[0mresult\u001B[0m \u001B[0;32min\u001B[0m \u001B[0ma\u001B[0m \u001B[0mpath\u001B[0m \u001B[0mthat\u001B[0m\u001B[0;34m\u001B[0m\u001B[0;34m\u001B[0m\u001B[0m\n\u001B[1;32m     79\u001B[0m     ends with a separator.\"\"\"\n\u001B[0;32m---> 80\u001B[0;31m     \u001B[0ma\u001B[0m \u001B[0;34m=\u001B[0m \u001B[0mos\u001B[0m\u001B[0;34m.\u001B[0m\u001B[0mfspath\u001B[0m\u001B[0;34m(\u001B[0m\u001B[0ma\u001B[0m\u001B[0;34m)\u001B[0m\u001B[0;34m\u001B[0m\u001B[0;34m\u001B[0m\u001B[0m\n\u001B[0m\u001B[1;32m     81\u001B[0m     \u001B[0msep\u001B[0m \u001B[0;34m=\u001B[0m \u001B[0m_get_sep\u001B[0m\u001B[0;34m(\u001B[0m\u001B[0ma\u001B[0m\u001B[0;34m)\u001B[0m\u001B[0;34m\u001B[0m\u001B[0;34m\u001B[0m\u001B[0m\n\u001B[1;32m     82\u001B[0m     \u001B[0mpath\u001B[0m \u001B[0;34m=\u001B[0m \u001B[0ma\u001B[0m\u001B[0;34m\u001B[0m\u001B[0;34m\u001B[0m\u001B[0m\n",
      "\u001B[0;31mTypeError\u001B[0m: expected str, bytes or os.PathLike object, not NoneType"
     ]
    }
   ],
   "source": [
    "from denormalizer.denormalize import denormalize_file\n",
    "# import argparse\n",
    "import sys\n",
    "\n",
    "from fairseq.models.transformer import TransformerModel\n",
    "from fairseq.models.transformer import base_architecture\n",
    "# import fairseq.scripts.custom_arch\n",
    "\n",
    "lang = 'en'\n",
    "size = 'l'\n",
    "detokenize = False\n",
    "\n",
    "file = '/home/hvwesten/Projects/ASR/raw_text/econ251_01_090309.txt'\n",
    "beam = 5\n",
    "outfile ='/home/hvwesten/Projects/ASR/normal_text/econ251_01_090309_normal.txt'\n",
    "\n",
    "print(f'./model_{lang}_{size}.pt')\n",
    "\n",
    "DENORMALIZER = TransformerModel.from_pretrained(\n",
    "    'models',\n",
    "    checkpoint_file=f'model_{lang}_{size}.pt',\n",
    "    data_name_or_path=f'data-bin/{lang}',\n",
    "    bpe='subword_nmt',\n",
    "    bpe_codes=f'data-bin/{lang}/bpe_code',\n",
    "    tokenizer=None )#('moses' if detokenize else None))\n",
    "\n",
    "denormalize_file(DENORMALIZER, file, beam, outfile)\n",
    "\n",
    "\n",
    "\n",
    "    # if args.string:\n",
    "    #     denormalize_string(DENORMALIZER, args.string, args.beam, args.outfile)\n",
    "    # elif args.file:\n",
    "\n",
    "    # else:\n",
    "    #     denormalize_interactively(DENORMALIZER, args.beam)"
   ],
   "metadata": {
    "collapsed": false,
    "pycharm": {
     "name": "#%%\n"
    }
   }
  },
  {
   "cell_type": "code",
   "execution_count": null,
   "outputs": [],
   "source": [],
   "metadata": {
    "collapsed": false,
    "pycharm": {
     "name": "#%%\n"
    }
   }
  }
 ],
 "metadata": {
  "kernelspec": {
   "display_name": "Python 3 (ipykernel)",
   "language": "python",
   "name": "python3"
  },
  "language_info": {
   "codemirror_mode": {
    "name": "ipython",
    "version": 3
   },
   "file_extension": ".py",
   "mimetype": "text/x-python",
   "name": "python",
   "nbconvert_exporter": "python",
   "pygments_lexer": "ipython3",
   "version": "3.9.7"
  }
 },
 "nbformat": 4,
 "nbformat_minor": 5
}