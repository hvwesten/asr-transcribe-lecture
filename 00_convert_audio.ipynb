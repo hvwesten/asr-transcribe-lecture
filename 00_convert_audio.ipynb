{
 "cells": [
  {
   "cell_type": "markdown",
   "source": [
    "## Install required packages"
   ],
   "metadata": {
    "collapsed": false,
    "pycharm": {
     "name": "#%% md\n"
    }
   }
  },
  {
   "cell_type": "code",
   "execution_count": null,
   "outputs": [],
   "source": [
    "!pip install pydub # used to convert mp3 to wav"
   ],
   "metadata": {
    "collapsed": false,
    "pycharm": {
     "name": "#%%\n"
    }
   }
  },
  {
   "cell_type": "markdown",
   "source": [
    "## Download audio"
   ],
   "metadata": {
    "collapsed": false,
    "pycharm": {
     "name": "#%% md\n"
    }
   }
  },
  {
   "cell_type": "code",
   "execution_count": null,
   "outputs": [],
   "source": [
    "# import the packages\n",
    "from pathlib import Path\n",
    "from pydub import AudioSegment"
   ],
   "metadata": {
    "collapsed": false,
    "pycharm": {
     "name": "#%%\n"
    }
   }
  },
  {
   "cell_type": "code",
   "execution_count": null,
   "outputs": [],
   "source": [
    "# Create the required directories\n",
    "Path.joinpath(Path.cwd(), 'audio/mp3/').mkdir(parents=True, exist_ok=True)\n",
    "Path.joinpath(Path.cwd(), 'audio/wav/').mkdir(parents=True, exist_ok=True)"
   ],
   "metadata": {
    "collapsed": false,
    "pycharm": {
     "name": "#%%\n"
    }
   }
  },
  {
   "cell_type": "code",
   "execution_count": null,
   "outputs": [],
   "source": [
    "# download the audio of the first lecture\n",
    "#!wget http://openmedia.yale.edu/cgi-bin/open_yale/media_downloader.cgi?file=/courses/fall09/econ251/mp3/econ251_01_090309.mp3 -O audio/mp3/econ251_01_090309.mp3"
   ],
   "metadata": {
    "collapsed": false,
    "pycharm": {
     "name": "#%%\n"
    }
   }
  },
  {
   "cell_type": "markdown",
   "source": [
    "## Convert mp3 to wav"
   ],
   "metadata": {
    "collapsed": false,
    "pycharm": {
     "name": "#%% md\n"
    }
   }
  },
  {
   "cell_type": "code",
   "execution_count": null,
   "outputs": [],
   "source": [
    "audio_input_directory = Path.cwd() / 'audio' / 'mp3'\n",
    "audio_output_directory = Path.cwd() / 'audio' / 'wav'"
   ],
   "metadata": {
    "collapsed": false,
    "pycharm": {
     "name": "#%%\n"
    }
   }
  },
  {
   "cell_type": "code",
   "execution_count": null,
   "id": "26945005-90a5-4ace-b311-10ed1c3c5e7c",
   "metadata": {
    "pycharm": {
     "name": "#%%\n"
    }
   },
   "outputs": [],
   "source": [
    "for audio_file in audio_input_directory.glob('*.mp3'):\n",
    "    audio_out = audio_output_directory / audio_file.with_suffix('.wav').name\n",
    "\n",
    "    if not audio_out.is_file():\n",
    "        print(f\"Converting {audio_out}...\")\n",
    "        sound = AudioSegment.from_mp3(audio_file)\n",
    "        sound.export(audio_out, format=\"wav\")\n",
    "    else:\n",
    "        print(f\"File {audio_out} already exists\")"
   ]
  }
 ],
 "metadata": {
  "kernelspec": {
   "display_name": "Python 3 (ipykernel)",
   "language": "python",
   "name": "python3"
  },
  "language_info": {
   "codemirror_mode": {
    "name": "ipython",
    "version": 3
   },
   "file_extension": ".py",
   "mimetype": "text/x-python",
   "name": "python",
   "nbconvert_exporter": "python",
   "pygments_lexer": "ipython3",
   "version": "3.9.7"
  }
 },
 "nbformat": 4,
 "nbformat_minor": 5
}