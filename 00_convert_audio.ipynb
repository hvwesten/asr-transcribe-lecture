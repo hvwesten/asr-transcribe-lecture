{
 "cells": [
  {
   "cell_type": "markdown",
   "source": [
    "# Install required packages"
   ],
   "metadata": {
    "collapsed": false,
    "pycharm": {
     "name": "#%% md\n"
    }
   }
  },
  {
   "cell_type": "code",
   "execution_count": null,
   "outputs": [],
   "source": [
    "!pip install wget\n",
    "!pip install pydub"
   ],
   "metadata": {
    "collapsed": false,
    "pycharm": {
     "name": "#%%\n"
    }
   }
  },
  {
   "cell_type": "markdown",
   "source": [
    "# Download audio"
   ],
   "metadata": {
    "collapsed": false,
    "pycharm": {
     "name": "#%% md\n"
    }
   }
  },
  {
   "cell_type": "code",
   "execution_count": 11,
   "outputs": [
    {
     "name": "stdout",
     "output_type": "stream",
     "text": [
      "mkdir: cannot create directory ‘./raw_text’: File exists\r\n"
     ]
    }
   ],
   "source": [
    "!mkdir -p ./audio/mp3/\n",
    "!mkdir -p ./audio/wav/\n",
    "!mkdir ./raw_text\n",
    "!mkdir ./normal_text"
   ],
   "metadata": {
    "collapsed": false,
    "pycharm": {
     "name": "#%%\n"
    }
   }
  },
  {
   "cell_type": "code",
   "execution_count": 6,
   "outputs": [
    {
     "name": "stdout",
     "output_type": "stream",
     "text": [
      "--2022-03-15 14:20:54--  http://openmedia.yale.edu/cgi-bin/open_yale/media_downloader.cgi?file=/courses/fall09/econ251/mp3/econ251_01_090309.mp3\r\n",
      "Resolving openmedia.yale.edu (openmedia.yale.edu)... 128.36.65.134\r\n",
      "Connecting to openmedia.yale.edu (openmedia.yale.edu)|128.36.65.134|:80... connected.\r\n",
      "HTTP request sent, awaiting response... 302 Moved Temporarily\r\n",
      "Location: https://openmedia.yale.edu/cgi-bin/open_yale/media_downloader.cgi?file=/courses/fall09/econ251/mp3/econ251_01_090309.mp3 [following]\r\n",
      "--2022-03-15 14:20:55--  https://openmedia.yale.edu/cgi-bin/open_yale/media_downloader.cgi?file=/courses/fall09/econ251/mp3/econ251_01_090309.mp3\r\n",
      "Connecting to openmedia.yale.edu (openmedia.yale.edu)|128.36.65.134|:443... connected.\r\n",
      "HTTP request sent, awaiting response... 200 OK\r\n",
      "Length: unspecified [application/octet-stream]\r\n",
      "Saving to: ‘audio/econ251_01_090309.mp3’\r\n",
      "\r\n",
      "audio/econ251_01_09     [        <=>         ]  68.00M  1.41MB/s    in 57s     \r\n",
      "\r\n",
      "2022-03-15 14:21:51 (1.20 MB/s) - ‘audio/econ251_01_090309.mp3’ saved [71303380]\r\n",
      "\r\n"
     ]
    }
   ],
   "source": [
    "# download the audio of the first lecture\n",
    "#!wget http://openmedia.yale.edu/cgi-bin/open_yale/media_downloader.cgi?file=/courses/fall09/econ251/mp3/econ251_01_090309.mp3 -O audio/mp3/econ251_01_090309.mp3"
   ],
   "metadata": {
    "collapsed": false,
    "pycharm": {
     "name": "#%%\n"
    }
   }
  },
  {
   "cell_type": "markdown",
   "source": [
    "## Convert mp3 to wav\n",
    "\n",
    "Requires `pydub`"
   ],
   "metadata": {
    "collapsed": false,
    "pycharm": {
     "name": "#%% md\n"
    }
   }
  },
  {
   "cell_type": "code",
   "execution_count": 7,
   "outputs": [],
   "source": [
    "from pathlib import Path\n",
    "from pydub import AudioSegment"
   ],
   "metadata": {
    "collapsed": false,
    "pycharm": {
     "name": "#%%\n"
    }
   }
  },
  {
   "cell_type": "code",
   "execution_count": 8,
   "outputs": [],
   "source": [
    "audio_input_directory = Path.cwd() / 'audio' / 'mp3'\n",
    "audio_output_directory = Path.cwd() / 'audio' / 'wav'\n",
    "raw_text_directory = Path.cwd() / 'raw_text'\n",
    "normal_text_directory = Path.cwd() / 'normal_text'"
   ],
   "metadata": {
    "collapsed": false,
    "pycharm": {
     "name": "#%%\n"
    }
   }
  },
  {
   "cell_type": "code",
   "execution_count": 12,
   "id": "26945005-90a5-4ace-b311-10ed1c3c5e7c",
   "metadata": {
    "pycharm": {
     "name": "#%%\n"
    }
   },
   "outputs": [
    {
     "name": "stdout",
     "output_type": "stream",
     "text": [
      "Converting /home/hvwesten/Projects/ASR/asr-transcribe-lecture/audio/wav/econ251_01_090309.wav...\n"
     ]
    }
   ],
   "source": [
    "for audio_file in audio_input_directory.glob('*.mp3'):\n",
    "    audio_out = audio_output_directory / audio_file.with_suffix('.wav').name\n",
    "\n",
    "    if not audio_out.is_file():\n",
    "        print(f\"Converting {audio_out}...\")\n",
    "        sound = AudioSegment.from_mp3(audio_file)\n",
    "        sound.export(audio_out, format=\"wav\")\n",
    "    else:\n",
    "        print(f\"File {audio_out} already exists\")"
   ]
  },
  {
   "cell_type": "code",
   "execution_count": null,
   "outputs": [],
   "source": [],
   "metadata": {
    "collapsed": false,
    "pycharm": {
     "name": "#%%\n"
    }
   }
  }
 ],
 "metadata": {
  "kernelspec": {
   "display_name": "Python 3 (ipykernel)",
   "language": "python",
   "name": "python3"
  },
  "language_info": {
   "codemirror_mode": {
    "name": "ipython",
    "version": 3
   },
   "file_extension": ".py",
   "mimetype": "text/x-python",
   "name": "python",
   "nbconvert_exporter": "python",
   "pygments_lexer": "ipython3",
   "version": "3.9.7"
  }
 },
 "nbformat": 4,
 "nbformat_minor": 5
}