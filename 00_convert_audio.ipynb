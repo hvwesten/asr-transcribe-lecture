{
 "cells": [
  {
   "cell_type": "markdown",
   "source": [
    "## Convert mp3 to wav\n",
    "\n",
    "Requires `pydub`"
   ],
   "metadata": {
    "collapsed": false,
    "pycharm": {
     "name": "#%% md\n"
    }
   }
  },
  {
   "cell_type": "code",
   "execution_count": 15,
   "outputs": [],
   "source": [
    "from pathlib import Path\n",
    "from pydub import AudioSegment"
   ],
   "metadata": {
    "collapsed": false,
    "pycharm": {
     "name": "#%%\n"
    }
   }
  },
  {
   "cell_type": "code",
   "execution_count": 29,
   "outputs": [],
   "source": [
    "audio_input_directory = Path.cwd() / 'audio' / 'mp3'\n",
    "audio_output_directory = Path.cwd() / 'audio' / 'wav'\n",
    "raw_text_directory = Path.cwd() / 'raw_text'\n",
    "normal_text_directory = Path.cwd() / 'normal_text'"
   ],
   "metadata": {
    "collapsed": false,
    "pycharm": {
     "name": "#%%\n"
    }
   }
  },
  {
   "cell_type": "code",
   "execution_count": null,
   "outputs": [],
   "source": [],
   "metadata": {
    "collapsed": false,
    "pycharm": {
     "name": "#%%\n"
    }
   }
  },
  {
   "cell_type": "code",
   "execution_count": null,
   "outputs": [],
   "source": [],
   "metadata": {
    "collapsed": false,
    "pycharm": {
     "name": "#%%\n"
    }
   }
  },
  {
   "cell_type": "code",
   "execution_count": null,
   "outputs": [],
   "source": [],
   "metadata": {
    "collapsed": false,
    "pycharm": {
     "name": "#%%\n"
    }
   }
  },
  {
   "cell_type": "code",
   "execution_count": 42,
   "id": "26945005-90a5-4ace-b311-10ed1c3c5e7c",
   "metadata": {
    "pycharm": {
     "name": "#%%\n"
    }
   },
   "outputs": [
    {
     "name": "stdout",
     "output_type": "stream",
     "text": [
      "/home/hvwesten/Projects/ASR/audio/wav/econ251_01_090309.wav already exists\n"
     ]
    }
   ],
   "source": [
    "for audio_file in audio_input_directory.glob('*.mp3'):\n",
    "    audio_out = audio_output_directory / audio_file.with_suffix('.wav').name\n",
    "\n",
    "    if not audio_out.is_file():\n",
    "        print(f\"Converting {audio_out}...\")\n",
    "        sound = AudioSegment.from_mp3(audio_file)\n",
    "        sound.export(audio_out, format=\"wav\")\n",
    "    else:\n",
    "        print(f\"File {audio_out} already exists\")"
   ]
  }
 ],
 "metadata": {
  "kernelspec": {
   "display_name": "Python 3 (ipykernel)",
   "language": "python",
   "name": "python3"
  },
  "language_info": {
   "codemirror_mode": {
    "name": "ipython",
    "version": 3
   },
   "file_extension": ".py",
   "mimetype": "text/x-python",
   "name": "python",
   "nbconvert_exporter": "python",
   "pygments_lexer": "ipython3",
   "version": "3.9.7"
  }
 },
 "nbformat": 4,
 "nbformat_minor": 5
}